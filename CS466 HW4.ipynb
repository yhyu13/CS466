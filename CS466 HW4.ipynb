{
 "cells": [
  {
   "cell_type": "code",
   "execution_count": 1,
   "metadata": {
    "collapsed": true
   },
   "outputs": [],
   "source": [
    "import numpy as np\n",
    "import matplotlib.pyplot as plt\n",
    "%matplotlib inline"
   ]
  },
  {
   "cell_type": "markdown",
   "metadata": {},
   "source": [
    "# #1Rock Game"
   ]
  },
  {
   "cell_type": "code",
   "execution_count": 2,
   "metadata": {
    "collapsed": true
   },
   "outputs": [],
   "source": [
    "n1 = 5\n",
    "n2 = 6"
   ]
  },
  {
   "cell_type": "code",
   "execution_count": 3,
   "metadata": {
    "collapsed": false
   },
   "outputs": [],
   "source": [
    "Matrix = [[1 for x in range(n1)] for y in range(n2)]"
   ]
  },
  {
   "cell_type": "code",
   "execution_count": 4,
   "metadata": {
    "collapsed": false
   },
   "outputs": [
    {
     "data": {
      "text/plain": [
       "[[1, 1, 1, 1, 1],\n",
       " [1, 1, 1, 1, 1],\n",
       " [1, 1, 2, 1, 1],\n",
       " [1, 1, 1, 2, 1],\n",
       " [1, 1, 1, 1, 2],\n",
       " [1, 1, 2, 1, 1]]"
      ]
     },
     "execution_count": 4,
     "metadata": {},
     "output_type": "execute_result"
    }
   ],
   "source": [
    "h = len(Matrix)\n",
    "w = len(Matrix[1])\n",
    "\n",
    "def play(Matrix):\n",
    "    for i in range(2,h):\n",
    "        for j in range(2,w):\n",
    "            \n",
    "            if Matrix[i-2][j] == 2 or Matrix[i-1][j] == 2 or Matrix[i][j-2] == 2 or Matrix[i][j-1] == 2:\n",
    "                Matrix[i][j] = 1\n",
    "            else:\n",
    "                Matrix[i][j] = 2\n",
    "                \n",
    "play(Matrix)\n",
    "Matrix"
   ]
  },
  {
   "cell_type": "code",
   "execution_count": 5,
   "metadata": {
    "collapsed": false
   },
   "outputs": [
    {
     "data": {
      "text/plain": [
       "1"
      ]
     },
     "execution_count": 5,
     "metadata": {},
     "output_type": "execute_result"
    }
   ],
   "source": [
    "Matrix[-1][-1]"
   ]
  },
  {
   "cell_type": "code",
   "execution_count": 6,
   "metadata": {
    "collapsed": false
   },
   "outputs": [
    {
     "data": {
      "text/plain": [
       "'Since Matrix[6][5] is True, we conclude the first player shall win for two piles of 5 stones&6 stones.'"
      ]
     },
     "execution_count": 6,
     "metadata": {},
     "output_type": "execute_result"
    }
   ],
   "source": [
    "'''Since Matrix[6][5] is True, we conclude the first player shall win for two piles of 5 stones&6 stones.'''"
   ]
  },
  {
   "cell_type": "markdown",
   "metadata": {},
   "source": [
    "# #2Minimal Genome Sequence Edit"
   ]
  },
  {
   "cell_type": "code",
   "execution_count": 7,
   "metadata": {
    "collapsed": true
   },
   "outputs": [],
   "source": [
    "s1 = ['A','A','T','T','A','A','G']\n",
    "s2 = ['T','T','A','A','G','C']\n",
    "C_indel = 1\n",
    "C_sub = 1\n",
    "i_s1 = s1[0]\n",
    "i_s2 = s2[0]"
   ]
  },
  {
   "cell_type": "code",
   "execution_count": 8,
   "metadata": {
    "collapsed": false
   },
   "outputs": [
    {
     "data": {
      "text/plain": [
       "array([[1, 0, 0, 0, 0, 0, 0],\n",
       "       [0, 0, 0, 0, 0, 0, 0],\n",
       "       [0, 0, 0, 0, 0, 0, 0],\n",
       "       [0, 0, 0, 0, 0, 0, 0],\n",
       "       [0, 0, 0, 0, 0, 0, 0],\n",
       "       [0, 0, 0, 0, 0, 0, 0]])"
      ]
     },
     "execution_count": 8,
     "metadata": {},
     "output_type": "execute_result"
    }
   ],
   "source": [
    "Matrix = np.array([[0 for x in range(len(s1))] for y in range(len(s2))])\n",
    "if i_s1 != i_s2:\n",
    "    Matrix[0,0] = min(C_indel,C_sub) #if first elements are not the same\n",
    "Matrix"
   ]
  },
  {
   "cell_type": "code",
   "execution_count": 9,
   "metadata": {
    "collapsed": false
   },
   "outputs": [
    {
     "data": {
      "text/plain": [
       "array([[1, 2, 2, 3, 4, 5, 6],\n",
       "       [0, 0, 0, 0, 0, 0, 0],\n",
       "       [0, 0, 0, 0, 0, 0, 0],\n",
       "       [0, 0, 0, 0, 0, 0, 0],\n",
       "       [0, 0, 0, 0, 0, 0, 0],\n",
       "       [0, 0, 0, 0, 0, 0, 0]])"
      ]
     },
     "execution_count": 9,
     "metadata": {},
     "output_type": "execute_result"
    }
   ],
   "source": [
    "first_time = True #if first elements are not the same\n",
    "for i in range(1,len(s1)):\n",
    "    if i_s2 != s1[i]:\n",
    "        Matrix[0,i] = Matrix[0,i-1] + 1\n",
    "    else:\n",
    "        if first_time:\n",
    "            Matrix[0,i] = Matrix[0,i-1]\n",
    "            first_time = False\n",
    "        else:\n",
    "            Matrix[0,i] = Matrix[0,i-1] + 1\n",
    "Matrix"
   ]
  },
  {
   "cell_type": "code",
   "execution_count": 10,
   "metadata": {
    "collapsed": false
   },
   "outputs": [
    {
     "data": {
      "text/plain": [
       "array([[1, 2, 2, 3, 4, 5, 6],\n",
       "       [2, 0, 0, 0, 0, 0, 0],\n",
       "       [2, 0, 0, 0, 0, 0, 0],\n",
       "       [3, 0, 0, 0, 0, 0, 0],\n",
       "       [4, 0, 0, 0, 0, 0, 0],\n",
       "       [5, 0, 0, 0, 0, 0, 0]])"
      ]
     },
     "execution_count": 10,
     "metadata": {},
     "output_type": "execute_result"
    }
   ],
   "source": [
    "first_time = True #if first elements are not the same\n",
    "for i in range(1,len(s2)):\n",
    "    if i_s1 != s2[i]:\n",
    "        Matrix[i,0] = Matrix[i-1,0] + 1\n",
    "    else:\n",
    "        if first_time:\n",
    "            Matrix[i,0] = Matrix[i-1,0]\n",
    "            first_time = False\n",
    "        else:\n",
    "            Matrix[i,0] = Matrix[i-1,0] + 1\n",
    "Matrix"
   ]
  },
  {
   "cell_type": "markdown",
   "metadata": {},
   "source": [
    "## Finish the base cases, time to do some real work!"
   ]
  },
  {
   "cell_type": "code",
   "execution_count": 11,
   "metadata": {
    "collapsed": false
   },
   "outputs": [
    {
     "data": {
      "text/plain": [
       "array([[1, 2, 2, 3, 4, 5, 6],\n",
       "       [2, 2, 2, 2, 3, 4, 5],\n",
       "       [2, 2, 3, 3, 2, 3, 4],\n",
       "       [3, 2, 3, 4, 3, 2, 3],\n",
       "       [4, 3, 3, 4, 4, 3, 2],\n",
       "       [5, 4, 4, 4, 5, 4, 3]])"
      ]
     },
     "execution_count": 11,
     "metadata": {},
     "output_type": "execute_result"
    }
   ],
   "source": [
    "for i in range(1,len(s2)):\n",
    "    for j in range(1,len(s1)):\n",
    "        if s2[i] == s1[j]:\n",
    "            Matrix[i,j] = min(Matrix[i-1,j-1],Matrix[i-1,j]+C_indel,Matrix[i,j-1]+C_indel)\n",
    "        else:\n",
    "            Matrix[i,j] = min(Matrix[i-1,j-1]+C_sub,Matrix[i-1,j]+C_indel,Matrix[i,j-1]+C_indel)\n",
    "Matrix"
   ]
  },
  {
   "cell_type": "code",
   "execution_count": 12,
   "metadata": {
    "collapsed": false
   },
   "outputs": [
    {
     "data": {
      "text/plain": [
       "3"
      ]
     },
     "execution_count": 12,
     "metadata": {},
     "output_type": "execute_result"
    }
   ],
   "source": [
    "Matrix[-1,-1]"
   ]
  },
  {
   "cell_type": "code",
   "execution_count": 13,
   "metadata": {
    "collapsed": false
   },
   "outputs": [
    {
     "data": {
      "text/plain": [
       "\"We conclude that the minimal edit from ['A','A','T','T','A','A','G'] to ['T','T','A','A','G','C'] is 3 when C = 1 and C' = 1!\""
      ]
     },
     "execution_count": 13,
     "metadata": {},
     "output_type": "execute_result"
    }
   ],
   "source": [
    "'''We conclude that the minimal edit from ['A','A','T','T','A','A','G'] to ['T','T','A','A','G','C'] is 3 when C = 1 and C' = 1!'''"
   ]
  },
  {
   "cell_type": "markdown",
   "metadata": {},
   "source": [
    "# #3Minimal 0s' & 1s' Sequence Edit"
   ]
  },
  {
   "cell_type": "code",
   "execution_count": 15,
   "metadata": {
    "collapsed": true
   },
   "outputs": [],
   "source": [
    "s1 = [0,1,0,0,0]\n",
    "s2 = [1,0,0,0,1,1]\n",
    "C_indel = 2\n",
    "C_sub = 3\n",
    "i_s1 = s1[0]\n",
    "i_s2 = s2[0]"
   ]
  },
  {
   "cell_type": "code",
   "execution_count": 16,
   "metadata": {
    "collapsed": false
   },
   "outputs": [
    {
     "data": {
      "text/plain": [
       "array([[2, 0, 0, 0, 0],\n",
       "       [0, 0, 0, 0, 0],\n",
       "       [0, 0, 0, 0, 0],\n",
       "       [0, 0, 0, 0, 0],\n",
       "       [0, 0, 0, 0, 0],\n",
       "       [0, 0, 0, 0, 0]])"
      ]
     },
     "execution_count": 16,
     "metadata": {},
     "output_type": "execute_result"
    }
   ],
   "source": [
    "Matrix = np.array([[0 for x in range(len(s1))] for y in range(len(s2))])\n",
    "if i_s1 != i_s2:\n",
    "    Matrix[0,0] = min(C_indel,C_sub) #if first elements are not the same\n",
    "Matrix"
   ]
  },
  {
   "cell_type": "code",
   "execution_count": 17,
   "metadata": {
    "collapsed": false
   },
   "outputs": [
    {
     "data": {
      "text/plain": [
       "array([[2, 2, 4, 6, 8],\n",
       "       [0, 0, 0, 0, 0],\n",
       "       [0, 0, 0, 0, 0],\n",
       "       [0, 0, 0, 0, 0],\n",
       "       [0, 0, 0, 0, 0],\n",
       "       [0, 0, 0, 0, 0]])"
      ]
     },
     "execution_count": 17,
     "metadata": {},
     "output_type": "execute_result"
    }
   ],
   "source": [
    "first_time = True #if first elements are not the same\n",
    "for i in range(1,len(s1)):\n",
    "    if i_s2 != s1[i]:\n",
    "        Matrix[0,i] = Matrix[0,i-1] + C_indel\n",
    "    else:\n",
    "        if first_time:\n",
    "            Matrix[0,i] = Matrix[0,i-1]\n",
    "            first_time = False\n",
    "        else:\n",
    "            Matrix[0,i] = Matrix[0,i-1] + C_indel\n",
    "Matrix"
   ]
  },
  {
   "cell_type": "code",
   "execution_count": 18,
   "metadata": {
    "collapsed": false
   },
   "outputs": [
    {
     "data": {
      "text/plain": [
       "array([[ 2,  2,  4,  6,  8],\n",
       "       [ 2,  0,  0,  0,  0],\n",
       "       [ 4,  0,  0,  0,  0],\n",
       "       [ 6,  0,  0,  0,  0],\n",
       "       [ 8,  0,  0,  0,  0],\n",
       "       [10,  0,  0,  0,  0]])"
      ]
     },
     "execution_count": 18,
     "metadata": {},
     "output_type": "execute_result"
    }
   ],
   "source": [
    "first_time = True #if first elements are not the same\n",
    "for i in range(1,len(s2)):\n",
    "    if i_s1 != s2[i]:\n",
    "        Matrix[i,0] = Matrix[i-1,0] + C_indel\n",
    "    else:\n",
    "        if first_time:\n",
    "            Matrix[i,0] = Matrix[i-1,0]\n",
    "            first_time = False\n",
    "        else:\n",
    "            Matrix[i,0] = Matrix[i-1,0] + C_indel\n",
    "Matrix"
   ]
  },
  {
   "cell_type": "markdown",
   "metadata": {},
   "source": [
    "## Finish the base cases, time to do some real work!"
   ]
  },
  {
   "cell_type": "code",
   "execution_count": 19,
   "metadata": {
    "collapsed": false
   },
   "outputs": [
    {
     "data": {
      "text/plain": [
       "array([[ 2,  2,  4,  6,  8],\n",
       "       [ 2,  4,  2,  4,  6],\n",
       "       [ 4,  5,  4,  2,  4],\n",
       "       [ 6,  7,  5,  4,  2],\n",
       "       [ 8,  6,  7,  6,  4],\n",
       "       [10,  8,  9,  8,  6]])"
      ]
     },
     "execution_count": 19,
     "metadata": {},
     "output_type": "execute_result"
    }
   ],
   "source": [
    "for i in range(1,len(s2)):\n",
    "    for j in range(1,len(s1)):\n",
    "        if s2[i] == s1[j]:\n",
    "            Matrix[i,j] = min(Matrix[i-1,j-1],Matrix[i-1,j]+C_indel,Matrix[i,j-1]+C_indel)\n",
    "        else:\n",
    "            Matrix[i,j] = min(Matrix[i-1,j-1]+C_sub,Matrix[i-1,j]+C_indel,Matrix[i,j-1]+C_indel)\n",
    "Matrix"
   ]
  },
  {
   "cell_type": "code",
   "execution_count": 20,
   "metadata": {
    "collapsed": false
   },
   "outputs": [
    {
     "data": {
      "text/plain": [
       "6"
      ]
     },
     "execution_count": 20,
     "metadata": {},
     "output_type": "execute_result"
    }
   ],
   "source": [
    "Matrix[-1,-1]"
   ]
  },
  {
   "cell_type": "code",
   "execution_count": 21,
   "metadata": {
    "collapsed": false
   },
   "outputs": [
    {
     "data": {
      "text/plain": [
       "\"We conclude that the minimal edit from [0,1,0,0,0] to [1,0,0,0,1,1] is 7 when C = 2 and C' = 3!\""
      ]
     },
     "execution_count": 21,
     "metadata": {},
     "output_type": "execute_result"
    }
   ],
   "source": [
    "'''We conclude that the minimal edit from [0,1,0,0,0] to [1,0,0,0,1,1] is 6 when C = 2 and C' = 3!'''"
   ]
  },
  {
   "cell_type": "markdown",
   "metadata": {},
   "source": [
    "# #4Minimal Sequence Edit API"
   ]
  },
  {
   "cell_type": "code",
   "execution_count": 23,
   "metadata": {
    "collapsed": false
   },
   "outputs": [],
   "source": [
    "def mini_sequence_edit(s1,s2,C_indel,C_sub):\n",
    "    i_s1 = s1[0]\n",
    "    i_s2 = s2[0]\n",
    "    \n",
    "    Matrix = np.array([[0 for x in range(len(s1))] for y in range(len(s2))])\n",
    "    if i_s1 != i_s2:\n",
    "        Matrix[0,0] = min(C_indel,C_sub) #if first elements are not the same\n",
    "            \n",
    "    #base cases massage!\n",
    "    first_time = True #if first elements are not the same\n",
    "    for i in range(1,len(s1)):\n",
    "        if i_s2 != s1[i]:\n",
    "            Matrix[0,i] = Matrix[0,i-1] + C_indel\n",
    "        else:\n",
    "            if first_time:\n",
    "                Matrix[0,i] = Matrix[0,i-1]\n",
    "                first_time = False\n",
    "            else:\n",
    "                Matrix[0,i] = Matrix[0,i-1] + C_indel\n",
    "    first_time = True #if first elements are not the same\n",
    "    for i in range(1,len(s2)):\n",
    "        if i_s1 != s2[i]:\n",
    "            Matrix[i,0] = Matrix[i-1,0] + C_indel\n",
    "        else:\n",
    "            if first_time:\n",
    "                Matrix[i,0] = Matrix[i-1,0]\n",
    "                first_time = False\n",
    "            else:\n",
    "                Matrix[i,0] = Matrix[i-1,0] + C_indel\n",
    "                    \n",
    "    for i in range(1,len(s2)):\n",
    "        for j in range(1,len(s1)):\n",
    "            if s2[i] == s1[j]:\n",
    "                Matrix[i,j] = min(Matrix[i-1,j-1],Matrix[i-1,j]+C_indel,Matrix[i,j-1]+C_indel)\n",
    "            else:\n",
    "                Matrix[i,j] = min(Matrix[i-1,j-1]+C_sub,Matrix[i-1,j]+C_indel,Matrix[i,j-1]+C_indel)\n",
    "                \n",
    "    print('''We conclude that the minimal edit from {} to {} is {} when C_indel = {} and C_sub = {}!'''.format(s1,s2,Matrix[-1,-1],C_indel,C_sub))\n",
    "    return Matrix, Matrix[-1,-1]"
   ]
  },
  {
   "cell_type": "code",
   "execution_count": 28,
   "metadata": {
    "collapsed": false
   },
   "outputs": [
    {
     "name": "stdout",
     "output_type": "stream",
     "text": [
      "We conclude that the minimal edit from [0, 1, 0, 0, 0] to [1, 0, 0, 0, 1, 1] is 6 when C_indel = 2 and C_sub = 3!\n"
     ]
    }
   ],
   "source": [
    "Matrix, minimal_edit_number = mini_sequence_edit(s1,s2,C_indel,C_sub)"
   ]
  },
  {
   "cell_type": "code",
   "execution_count": null,
   "metadata": {
    "collapsed": true
   },
   "outputs": [],
   "source": []
  }
 ],
 "metadata": {
  "kernelspec": {
   "display_name": "Python 3",
   "language": "python",
   "name": "python3"
  },
  "language_info": {
   "codemirror_mode": {
    "name": "ipython",
    "version": 3
   },
   "file_extension": ".py",
   "mimetype": "text/x-python",
   "name": "python",
   "nbconvert_exporter": "python",
   "pygments_lexer": "ipython3",
   "version": "3.5.2"
  }
 },
 "nbformat": 4,
 "nbformat_minor": 2
}
